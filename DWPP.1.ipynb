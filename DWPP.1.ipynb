{
  "cells": [
    {
      "cell_type": "markdown",
      "metadata": {
        "id": "view-in-github",
        "colab_type": "text"
      },
      "source": [
        "<a href=\"https://colab.research.google.com/github/akshitharaj/Data-Science/blob/master/DWPP.1.ipynb\" target=\"_parent\"><img src=\"https://colab.research.google.com/assets/colab-badge.svg\" alt=\"Open In Colab\"/></a>"
      ]
    },
    {
      "cell_type": "markdown",
      "metadata": {
        "id": "IGroNc0Uy0_K"
      },
      "source": [
        "# Sprint 1: Data & Python\n",
        "## Part 6: Iris Clustering Project\n",
        "\n",
        "*\\[Estimated time to complete - 3 hours\\]*\n",
        "\n",
        "<br>\n"
      ]
    },
    {
      "cell_type": "code",
      "source": [],
      "metadata": {
        "id": "RWPBlbOJwKPN"
      },
      "execution_count": null,
      "outputs": []
    },
    {
      "cell_type": "markdown",
      "metadata": {
        "id": "G5m38yb9y0_P"
      },
      "source": [
        "## Your first Project\n",
        "\n",
        "Welcome to your very first Project Part! You will practice what you've learned about Python and k-means clustering.\n",
        "\n",
        "This project will test a number of skills that will be important throughout your career as a data scientist: organizing, formatting, grouping, filtering, and clustering data.\n",
        "\n",
        "More specifically, in data science, **data** is usually the key component. Knowing how to wrangle your data is not only useful but allows us to think about the type of data analysis and machine learning modelling that is going to be the most effective.\n",
        "\n",
        "\n",
        "## Objective\n",
        "\n",
        "Your objective in this project is to cluster the species of iris flower in the Iris Dataset into three clusters. The dataset contains the `labels` feature, which can help you evaluate the performance of your algorithm. \n",
        "\n",
        "\n",
        "## About the dataset\n",
        "\n",
        "This is a well-known dataset in the machine learning world, popular because of its simplicity. The dataset doesn't have any missing values, categorical variables, or anything else that requires data preprocessing.\n",
        "\n",
        "\n",
        "## How to get the data\n",
        "\n",
        "There are multiple ways to get this dataset, but one of the most convenient is to use [scikit-learn's datasets](https://scikit-learn.org/stable/modules/generated/sklearn.datasets.load_iris.html#sklearn.datasets.load_iris). It is ok if you are not familiar with scikit-learn - it is already installed by default on Google Colab and you only need to use one function to get the data. We recommend using this approach, because it is relatively simple, but if you are comfortable with an alternative (e.g., loading this dataset from Kaggle, GitHub, TensorFlow, etc.) or would like to experiment a bit more you are free to do use alternative ways to get the data.\n",
        "\n",
        "\n",
        "## Clustering\n",
        "\n",
        "You will need to use what you learned in the \"Big Ideas and Little Code in Python Lesson 4: Implementing k-means Unsupervised Machine Learning\" lesson and implement your k-means clustering algorithm. If you know how to use a library (e.g., scikit-learn, scipy, etc.) to implement the k-means algorithm and would like to see if your implementation provides similar clusters, we encourage you to try to use it only *after* you have implemented the algorithm yourself. \n",
        "\n",
        "\n",
        "## Clusters vs. labels\n",
        "\n",
        "The dataset also provides a `labels` column (feature). To understand if your clusters make sense, you should see the distributions of the labels in each of your clusters. This will help you debug your code and evaluate the performance of your algorithm.\n",
        "\n",
        "\n",
        "## Visualizations and tools\n",
        "\n",
        "If you have experience working with visualization libraries (e.g., matplotlib, seaborn, etc.) or libraries used for data manipulation (e.g., NumPy, pandas, etc.) feel free to use them in your project. Using these tools is not a requirement and won't get you any additional points, so don't try to use any tool that you don't feel comfortable with."
      ]
    },
    {
      "cell_type": "markdown",
      "metadata": {
        "id": "-m7Kugci-zgr"
      },
      "source": [
        "## Requirements\n",
        "\n",
        "- Load the Iris Dataset. \n",
        "- Implement the k-means clustering algorithm to cluster all data points into three clusters. You should implement the algorithm yourself, without using a k-means library.\n",
        "- Inspect the distribution of labels in each of your clusters.\n",
        "- Describe what your functions do (preferably using docstrings).\n",
        "- Use meaningful variable names that will help others understand your code.\n",
        "- Be ready to discuss ways in which your code could be improved further.\n",
        "\n",
        "<br>\n",
        "\n",
        "## Evaluation Criteria\n",
        "\n",
        "- Adherence to the requirements. How well did you meet the requirements?\n",
        "- Code quality. You will be given tips on whether:\n",
        "   - the code is well-structured;\n",
        "   - commented-out and unused code is removed;\n",
        "   - the code is easy to read.\n",
        "\n",
        "- Code performance. You will be given tips on whether:\n",
        "   - Suitable algorithms and data structures were used.\n",
        "\n",
        "<br>\n",
        "\n",
        "## Making changes through Google Colab\n",
        "\n",
        "This notebook that you are reading right now is an individual copy made for you. It is the only source a reviewer will use for your code review. You should therefore save all the progress that you make here by having it open in Google Colab, making the changes there, by selecting \"File\"->\"Save a Copy to GitHub\". For a detailed explanation on all the steps required for saving a project, watch this video: [How to save your progress](https://bit.ly/3mD1Xme)\n",
        "\n",
        "To open this notebook in Google Colab, use the Google Colab button in the Turing Platform. The first time you open a Github repository through Google Colab can be a bit messy, though. We recommend either watching [this video](https://bit.ly/3lomUSF) or following the instructions below:\n",
        "\n",
        "1. Go to http://colab.research.google.com/github, and check the ‘Include private repos’ box. If you see any error messages, keep clicking ‘Retry.’ You should eventually authenticate with your Github account and see your GitHub username & have ‘Include private repos’ checked.\n",
        "2. Close the window & click ‘Google Colab’ on the platform. You might continue to see Authentication error messages. Just go through them by clicking ‘Retry’ and authenticating with your GitHub account.\n",
        "3. At some point, you are likely to see a pop-up being blocked. Allow all pop-ups from Google Colab in your browser.\n",
        "4. You should be in the notebook and have its contents visible!\n",
        "\n",
        "---\n",
        "\n",
        "If there are still any things that are unclear, we will be more than happy to help you through the Discord #community_help channel, in stand-ups and in open sessions.\n",
        "\n",
        "<br>\n",
        "\n",
        "## Submission and scheduling a correction\n",
        "\n",
        "Before submitting your project, double check that you have saved your progress to your GitHub repository. A good way to do that is to open the GitHub link to your repository (available in the Turing Platform) instead of the Google Colab one, or by simply refreshing the platform and checking if the notebook preview has your updates. If you see the changes there, you are good to go! Note that reviewers are allowed to only evaluate the work that you have submitted,and that once you submit your project.\n",
        "\n",
        "Once you have completed a project and double-checked that it is saved in your GitHub repository, go to the Turing Platform and click the button to complete it. The platform then allows you to see the times when reviewers are available to have a call with you and review the project. Simply book a time that suits you. If there are no times available, feel free to message us in the #community_help channel on Discord — we will make sure that a reviewer adds a time for you.\n",
        "\n",
        "Note that reviewers are allowed to only evaluate the work that you have submitted. While you can make changes even after submission, a reviewer might have already checked an earlier version of yours and is not guaranteed to see the newest one. So ideally, you should not make any more changes after you schedule a correction.\n",
        "\n",
        "\n",
        "<br>\n",
        "\n",
        "## What to expect during a code review?\n",
        "\n",
        "The most common structure for a code review is for the learner to go through their project while sharing their screen, presenting how each part was done and what insights were achieved. The reviewer asks questions to check whether the learner really understands the relevant parts of the project, and assigns a rating from 1 to 5 for each of the evaluation criteria. On average, a review like this takes 30-45 minutes to complete.\n",
        "\n",
        "The goal of a correction is to test the current limits of your knowledge and give you personalised feedback on how to improve further. Expect the reviewer to give you tips on how to improve things, even if you did everything perfectly according to the criteria. We also very strongly advise you to let the reviewer know if you feel unsure about some parts of your knowledge, instead of trying to hide it — this is the best way to improve as the reviewer will be able to confirm or reject your assumptions, while you will not be losing anything by potentially getting a lower score.\n",
        "\n",
        "To pass a correction, you need to achieve a score of 70% or more. If you fail the project, you will be expected to make adjustments based on the feedback received. Once the changes are made, you will be able to submit the project once again and schedule a new code review — as mentioned before, a low score, even a failing one, is nothing to worry about, as you will be able to move forward as soon as you are ready to do so.\n",
        "\n",
        "During your project correction, you should present it as if talking to a technical team lead and a senior co-worker working in your team.\n",
        "You can assume that they will have strong software engineering skills - they will understand technical jargon, they are expected to notice things that could have been done better, and ask about the choices you've made (especially if you've made some questionable choices).\n",
        "In addition, be careful not to spend your time explaining trivial concepts or code snippets that are simple - your best bet is to focus your presentation on the more difficult portions of your code.\n",
        "\n",
        "<br>\n",
        "\n",
        "## Sample Correction Questions\n",
        "\n",
        "During a correction, you may get asked questions that test your understanding of all the topics covered in this sprint (even if they were not directly used in this project).\n",
        "\n",
        "- What are the most important functions of the statistics library?\n",
        "- How to find a character in a string?\n",
        "- How to calculate factorial using Python?\n",
        "- What does a specific line of code in your solution do?\n",
        "\n",
        "<br>\n",
        "\n",
        "## Your application to Turing College\n",
        "\n",
        "After you successfully complete the project, you will soon get an email inviting you to book an interview with a member of the Turing College staff. This will be the final step of the admissions process. \n",
        "\n",
        "Note, that before the interview, we will be reviewing your learning data and feedback from other learners and Junior Team Leads. In some cases, when our data suggests that you are not yet ready to join the full course, you can receive our decision before interview takes place. In such case, you would *receive an email* clearly stating such process outcome and your interview, if any, would be cancelled.\n",
        "\n",
        "## Source\n",
        "\n",
        "This exercise is inspired by Big Ideas and Little Code in Python by Raymond Hettinger.\n",
        "\n",
        "<br>\n",
        "\n",
        "## Your Solution"
      ]
    },
    {
      "cell_type": "code",
      "execution_count": 20,
      "metadata": {
        "id": "VIqP8p1dAumS"
      },
      "outputs": [],
      "source": [
        "# Write your solution below\n",
        "import numpy as np\n",
        "import pandas as pd\n",
        "import matplotlib.pyplot as plt\n",
        "from sklearn import datasets\n",
        "from sklearn.datasets import load_iris\n",
        "\n"
      ]
    },
    {
      "cell_type": "code",
      "source": [
        "iris_data = load_iris()\n"
      ],
      "metadata": {
        "id": "_kZpSC3UyyAo"
      },
      "execution_count": 21,
      "outputs": []
    },
    {
      "cell_type": "code",
      "source": [
        "iris_df = pd.DataFrame(iris_data.data, columns = iris_data.feature_names)"
      ],
      "metadata": {
        "id": "Aet1H7j70eaK"
      },
      "execution_count": 22,
      "outputs": []
    },
    {
      "cell_type": "code",
      "source": [
        "from sklearn.model_selection import train_test_split\n",
        "x = iris_df.iloc[:, :-1].values # inputs\n",
        "y = iris_df.iloc[:,   -1].values # output\n",
        "from sklearn.model_selection import train_test_split\n",
        "x_train,x_test,y_train,y_test = train_test_split(x,y,test_size=0.2,random_state=0) "
      ],
      "metadata": {
        "id": "63LzLomL5uKH"
      },
      "execution_count": 24,
      "outputs": []
    },
    {
      "cell_type": "code",
      "source": [
        "from sklearn.cluster import KMeans\n",
        "kmeans = KMeans(n_clusters=3,init = 'k-means++',   max_iter = 100, n_init = 10, random_state = 0) \n"
      ],
      "metadata": {
        "id": "vmxlKybC3UEZ"
      },
      "execution_count": 25,
      "outputs": []
    },
    {
      "cell_type": "code",
      "source": [
        "y_kmeans = kmeans.fit_predict(x)\n",
        "print(kmeans.cluster_centers_)"
      ],
      "metadata": {
        "id": "oTVeXrB-3yma",
        "outputId": "93d292e9-89b0-4ec6-a1f7-378670e530d0",
        "colab": {
          "base_uri": "https://localhost:8080/"
        }
      },
      "execution_count": 28,
      "outputs": [
        {
          "output_type": "stream",
          "name": "stdout",
          "text": [
            "[[5.84655172 2.73275862 4.3637931 ]\n",
            " [5.006      3.428      1.462     ]\n",
            " [6.83571429 3.06428571 5.6547619 ]]\n"
          ]
        }
      ]
    },
    {
      "cell_type": "code",
      "source": [
        "plt.scatter(x[y_kmeans   == 0, 0], x[y_kmeans == 0, 1],s = 100, c = 'red', label = 'Iris-setosa')\n",
        "plt.scatter(x[y_kmeans   == 1, 0], x[y_kmeans == 1, 1],s = 100, c = 'blue', label = 'Iris-versicolour')\n",
        "plt.scatter(x[y_kmeans   == 2, 0], x[y_kmeans == 2, 1],s = 100, c = 'green', label = 'Iris-virginica')   \n",
        "plt.scatter(kmeans.cluster_centers_[:,   0], kmeans.cluster_centers_[:,1],s = 100, c = 'black', label = 'Centroids')\n",
        "plt.legend()\n",
        "plt.show()"
      ],
      "metadata": {
        "id": "YaS0ZMx04ylY",
        "outputId": "ea49b6f1-0449-41b2-caff-fc06b521d08f",
        "colab": {
          "base_uri": "https://localhost:8080/",
          "height": 268
        }
      },
      "execution_count": 30,
      "outputs": [
        {
          "output_type": "display_data",
          "data": {
            "text/plain": [
              "<Figure size 432x288 with 1 Axes>"
            ],
            "image/png": "[encoded data removed]"
          },
          "metadata": {
            "needs_background": "light"
          }
        }
      ]
    },
    {
      "cell_type": "code",
      "source": [],
      "metadata": {
        "id": "0jTsZSIu-xXH"
      },
      "execution_count": null,
      "outputs": []
    }
  ],
  "metadata": {
    "colab": {
      "collapsed_sections": [],
      "name": "DWPP.1.ipynb",
      "provenance": [],
      "include_colab_link": true
    },
    "kernelspec": {
      "display_name": "Python 3",
      "language": "python",
      "name": "python3"
    },
    "language_info": {
      "codemirror_mode": {
        "name": "ipython",
        "version": 3
      },
      "file_extension": ".py",
      "mimetype": "text/x-python",
      "name": "python",
      "nbconvert_exporter": "python",
      "pygments_lexer": "ipython3",
      "version": "3.7.7"
    }
  },
  "nbformat": 4,
  "nbformat_minor": 0
}